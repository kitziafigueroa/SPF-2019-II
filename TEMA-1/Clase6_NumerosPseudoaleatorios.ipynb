{
 "cells": [
  {
   "cell_type": "markdown",
   "metadata": {},
   "source": [
    "# Generación de números pseudoaleatorios\n",
    "\n",
    "<img style=\"float: center; margin: 0px 0px 15px 15px;\" src=\"https://upload.wikimedia.org/wikipedia/commons/6/6a/Dice.jpg\" width=\"300px\" height=\"100px\" />\n",
    "\n",
    "**Referencias de la clase:**\n",
    "- https://webs.um.es/mpulido/miwiki/lib/exe/fetch.php?id=amio&cache=cache&media=wiki:simt1b.pdf\n",
    "- http://www.lmpt.univ-tours.fr/~nicolis/Licence_NEW/08-09/boxmuller.pdf\n",
    "\n",
    "**Referencias de las librerías que usaremos:**\n",
    "- http://www.numpy.org/\n",
    "- https://matplotlib.org/"
   ]
  },
  {
   "cell_type": "markdown",
   "metadata": {},
   "source": [
    "___\n",
    "## 0. Introducción\n",
    "\n",
    "- Los números aleatorios son la base esencial de la simulación de escenarios.\n",
    "- Toda la aleatoriedad involucrada en el modelo se obtiene a partir de un generador de números aleatorios que produce una sucesión de valores que supuestamente son realizaciones de una secuencia de variables aleatorias independientes e idénticamente distribuidas.\n",
    "\n"
   ]
  },
  {
   "cell_type": "markdown",
   "metadata": {},
   "source": [
    "### 0.1 ¿Qué es un número pseudoaleatorio?\n",
    "\n",
    "<img style=\"float: right; margin: 0px 0px 15px 15px;\" src=\"http://www.publicdomainpictures.net/pictures/50000/velka/random-numbers.jpg\" width=\"300px\" height=\"100px\" />\n",
    "\n",
    "- Es un número generado en un proceso que parece producir números al azar, pero no lo hace realmente.\n",
    "- Las secuencias de números pseudoaleatorios no muestran ningún patrón o regularidad aparente desde un punto de vista estadístico, a pesar de haber sido generadas por un algoritmo completamente determinista, en el que las mismas condiciones iniciales producen siempre el mismo resultado.\n",
    "- Por lo general, el interés no radica en generar un solo número aleatorio, sino muchos, reunidos en lo que se conoce como secuencia aleatoria.\n",
    "\n",
    "### 0.2 ¿En qué se aplican?\n",
    "\n",
    "- Modelado y simulación por computadora, estadística, diseño experimental. Normalmente, la entropía (aletoriedad) de los números que se generan actualmente basta para estas aplicaciones.\n",
    "- Criptografía. Este campo sigue estando en constante investigación, y por tanto la generación de números aleatorios también.\n",
    "- Asimismo, también destacan su uso en el llamado método de Montecarlo, con múltiples utilidades.\n",
    "- Entre otros...\n",
    "\n",
    "### 0.3 Funcionamiento básico\n",
    "\n",
    "- Elegir una semilla inicial (condición inicial) $x_0$.\n",
    "- Generar una sucesión de valores $x_n$ mediante la relación de recurrencia $x_n=T(x_{n-1})$.\n",
    "\n",
    "> Generalmente, esta secuencia es de números pseudoaleatorios $\\mathcal{U}(0,1)$.\n",
    "\n",
    "- Finalmente, se genera un número pseudoaleatorio con distribución deseada, definido a través de alguna relación $u_n=g(x_n)$.\n",
    "- Estas sucesiones son periódicas. Es decir, en algún momento ocurrirá que $x_j = x_i$ para algún $j > i$.\n",
    "\n",
    "### 0.4 ¿Cuándo un generador de números pseudoaleatorios es bueno?\n",
    "\n",
    "- La sucesión de valores que proporcione deberı́a asemejarse a una sucesión de realizaciones independientes de una variable aleatoria $\\mathcal{U}(0, 1)$.\n",
    "- Los resultados deben ser reproducibles, en el sentido de que comenzando con la misma semilla inicial, debe ser capaz de reproducir la misma sucesión. Esto para poder probar diferentes alternativas bajo las mismas condiciones y/o poder depurar fallos en el modelo.\n",
    "- La sucesión de valores generados debe tener un periodo no repetitivo tan largo como sea posible."
   ]
  },
  {
   "cell_type": "markdown",
   "metadata": {},
   "source": [
    "___\n",
    "## 1. Métodos congruenciales para generación de números pseudoaleatorios $\\mathcal{U}(0,1)$\n",
    "\n",
    "- Introducidos por Lehmer en 1951.\n",
    "- Son los principales generadores de números pseudoaleatorios utilizados hoy en día.\n",
    "\n",
    "### 1.1 Descripción general del método\n",
    "\n",
    "- Comienza con un valor inicial (semilla) $x_0$, y los valores subsiguientes, $x_n$ para $n \\geq 1$, se obtienen recursivamente con la siguiente fórmula:\n",
    "$$x_n = (ax_{n−1} + b) \\mod m.$$\n",
    "- En la fórmula de arriba $\\text{mod}$ representa la operación residuo.\n",
    "- Los enteros positivos $m$, $a$ y $b$ en la fórmula se denominan:\n",
    " - $0<m$ es el módulo,\n",
    " - $0<a<m$ es el multiplicador, y\n",
    " - $0\\leq b <m$ es el incremento.\n",
    " - La semilla debe satisfacer $0\\leq x_0<m$.\n",
    "- Si $b = 0$, el generador se denomina multiplicativo.\n",
    "- En caso contrario se llama mixto."
   ]
  },
  {
   "cell_type": "markdown",
   "metadata": {},
   "source": [
    "**Ejemplo**\n",
    "\n",
    "Para tomar intuición con este método, probar a mano con los siguientes conjuntos de parámetros:\n",
    "1. $m=9$, $a=5$, $b=1$, $x_0=1$.\n",
    "2. $m=16$, $a=5$, $b=3$, $x_0=7$."
   ]
  },
  {
   "cell_type": "code",
   "execution_count": 1,
   "metadata": {},
   "outputs": [
    {
     "name": "stdout",
     "output_type": "stream",
     "text": [
      "6\n",
      "6\n"
     ]
    }
   ],
   "source": [
    "print((5*1+1)%9)\n",
    "print((5*7+3)%16)"
   ]
  },
  {
   "cell_type": "markdown",
   "metadata": {},
   "source": [
    "De acuerdo a lo anterior, ¿cómo son los números $x_i$?, ¿representa esto algún problema?, ¿cómo se podría solucionar?\n",
    "\n",
    "<font color=red> Enunciar problemas con sus respectivas soluciones... </font>"
   ]
  },
  {
   "cell_type": "markdown",
   "metadata": {},
   "source": [
    "En efecto, un generador congruencial queda completamente determinado por los parámetros $m$, $a$, $b$ y $x_0$.\n",
    "\n",
    "**Proposición.** Los valores generados por un método congruencial verifican:\n",
    "\n",
    "$$x_n = \\left(a^n x_0+b\\frac{a^n-1}{a-1}\\right) \\mod m.$$\n",
    "\n",
    "<font color=blue> Verificar esto en el pizarrón. </font>"
   ]
  },
  {
   "cell_type": "markdown",
   "metadata": {},
   "source": [
    "### 1.2 Programemos este método\n",
    "\n",
    "De acuerdo a lo descrito arriba, quisiéramos programar una función que reciba:\n",
    "- la semilla $x_0$,\n",
    "- el multiplicador $a$,\n",
    "- el incremento $b$,\n",
    "- el módulo $m$, y\n",
    "- la cantidad de elementos de la secuencia pseudoaleatoria requeridos $n$,\n",
    "\n",
    "y que retorne la secuencia pseudoaleatoria de longitud $n$."
   ]
  },
  {
   "cell_type": "code",
   "execution_count": 2,
   "metadata": {},
   "outputs": [],
   "source": [
    "#### Importar la librería numpy... útil para el manejo de datos n-dimensionales (vectores)\n",
    "import numpy as np"
   ]
  },
  {
   "cell_type": "code",
   "execution_count": 3,
   "metadata": {},
   "outputs": [
    {
     "data": {
      "text/plain": [
       "array([2, 4, 8])"
      ]
     },
     "execution_count": 3,
     "metadata": {},
     "output_type": "execute_result"
    }
   ],
   "source": [
    "# Elevar una constante a un vector\n",
    "b=np.array([1, 2, 3])\n",
    "2**b"
   ]
  },
  {
   "cell_type": "code",
   "execution_count": 4,
   "metadata": {},
   "outputs": [],
   "source": [
    "#### Escribir la función acá\n",
    "def cong_method1(x0:\"Semilla inicial\",a:\"Multiplicador\",b:\"Incremento\", m:\"Módulo\",\n",
    "                 n:\"Número de elementos\"):\n",
    "    '''Esta función contiene la programación del método congruencial para la sucesión x_n = (ax_{n−1} + b) mod m'''\n",
    "    x = [x0]\n",
    "    for i in range(1,n):\n",
    "        x.append((a * x[-1] + b) % m)\n",
    "    return np.array(x)/m#divide entre M para que de un valor en el intervalo[0,1]\n"
   ]
  },
  {
   "cell_type": "code",
   "execution_count": 5,
   "metadata": {},
   "outputs": [
    {
     "name": "stdout",
     "output_type": "stream",
     "text": [
      "Help on function cong_method1 in module __main__:\n",
      "\n",
      "cong_method1(x0: 'Semilla inicial', a: 'Multiplicador', b: 'Incremento', m: 'Módulo', n: 'Número de elementos')\n",
      "    Esta función contiene la programación del método congruencial para la sucesión x_n = (ax_{n−1} + b) mod m\n",
      "\n"
     ]
    }
   ],
   "source": [
    "help(cong_method1)"
   ]
  },
  {
   "cell_type": "markdown",
   "metadata": {},
   "source": [
    "**Ejemplo**\n",
    "\n",
    "Probar con los conjuntos de parámetros anteriores:\n",
    "1. $m=9$, $a=5$, $b=1$, $x_0=1$.\n",
    "2. $m=16$, $a=5$, $b=3$, $x_0=7$.\n",
    "\n",
    "Además,\n",
    "- Para el conjunto de parámetros 1, probar con las semillas $x_0=5,8$.\n",
    "- Para el conjunto de parámetros 2, probar con diferentes semillas."
   ]
  },
  {
   "cell_type": "code",
   "execution_count": 6,
   "metadata": {},
   "outputs": [
    {
     "data": {
      "text/plain": [
       "array([0.4375, 0.375 , 0.0625, 0.5   , 0.6875, 0.625 , 0.3125, 0.75  ,\n",
       "       0.9375, 0.875 , 0.5625, 0.    , 0.1875, 0.125 , 0.8125])"
      ]
     },
     "execution_count": 6,
     "metadata": {},
     "output_type": "execute_result"
    }
   ],
   "source": [
    "#### Probar acá\n",
    "x = cong_method1(7, 5, 3, 16, 15)\n",
    "x"
   ]
  },
  {
   "cell_type": "code",
   "execution_count": 7,
   "metadata": {},
   "outputs": [
    {
     "data": {
      "text/plain": [
       "array([0.05882353, 0.47058824, 0.52941176, 0.82352941, 0.29411765,\n",
       "       0.64705882, 0.41176471, 0.23529412, 0.35294118, 0.94117647,\n",
       "       0.88235294, 0.58823529, 0.11764706, 0.76470588, 0.        ,\n",
       "       0.17647059, 0.05882353, 0.47058824, 0.52941176, 0.82352941])"
      ]
     },
     "execution_count": 7,
     "metadata": {},
     "output_type": "execute_result"
    }
   ],
   "source": [
    "x = cong_method1(1, 5, 3, 17, 20)\n",
    "x"
   ]
  },
  {
   "cell_type": "markdown",
   "metadata": {},
   "source": [
    "**Ejemplo**\n",
    "\n",
    "Los ciclos *for* o *while* son un atentado contra la computación eficiente. Programar de forma vectorizada usando la fórmula:\n",
    "$$x_n = \\left(a^n x_0+b\\frac{a^n-1}{a-1}\\right) \\mod m.$$"
   ]
  },
  {
   "cell_type": "code",
   "execution_count": 8,
   "metadata": {},
   "outputs": [],
   "source": [
    "#### Escribir la función acá\n",
    "def cong_method2(x0, a, b, m, n):\n",
    "    N = np.arange(n) \n",
    "    return ((a**N * x0 + b * ((a**N-1)/(a-1))) % m)/m"
   ]
  },
  {
   "cell_type": "code",
   "execution_count": 9,
   "metadata": {},
   "outputs": [
    {
     "name": "stdout",
     "output_type": "stream",
     "text": [
      "[0.125  0.8125 0.25   0.4375 0.375  0.0625 0.5    0.6875 0.625  0.3125\n",
      " 0.75   0.9375 0.875  0.5625 0.     0.1875 0.125  0.8125 0.25   0.4375]\n"
     ]
    }
   ],
   "source": [
    "Me2 = cong_method2(2, 5, 3, 16, 20)\n",
    "print(Me2)\n"
   ]
  },
  {
   "cell_type": "code",
   "execution_count": 10,
   "metadata": {},
   "outputs": [
    {
     "name": "stdout",
     "output_type": "stream",
     "text": [
      "[0.125  0.8125 0.25   0.4375 0.375  0.0625 0.5    0.6875 0.625  0.3125\n",
      " 0.75   0.9375 0.875  0.5625 0.     0.1875 0.125  0.8125 0.25   0.4375]\n"
     ]
    }
   ],
   "source": [
    "Me1 = cong_method1(2, 5, 3, 16, 20)\n",
    "print(Me1)"
   ]
  },
  {
   "cell_type": "markdown",
   "metadata": {},
   "source": [
    "Entonces vemos que la calidad de nuestro generador congruencial depende fuertemente de la elección de los parámetros, pues quisiéramos que los periodos sean lo más grandes posible ($m$).\n",
    "\n",
    "Cuando el periodo de un generador congruencial coincide con el módulo $m$, lo llamaremos *generador de ciclo completo*. El periodo de este tipo de generadores es independiente de la semilla que utilicemos.\n",
    "\n",
    "El siguiente Teorema nos da condiciones para crear generadores de ciclo completo:"
   ]
  },
  {
   "cell_type": "markdown",
   "metadata": {},
   "source": [
    "**Teorema.** Un generador congruencial tiene periodo completo si y sólo si se cumplen las siguientes condiciones:\n",
    "1. $m$ y $b$ son primos entre sı́.\n",
    "2. Si $q$ es un número primo que divide a $m$, entonces $q$ divide a $a − 1$.\n",
    "3. Si $4$ divide a m, entonces 4 divide a $a − 1$."
   ]
  },
  {
   "cell_type": "markdown",
   "metadata": {},
   "source": [
    "**Ejercicio**\n",
    "\n",
    "Comprobar el teorema en el conjunto de parámetros 2."
   ]
  },
  {
   "cell_type": "markdown",
   "metadata": {},
   "source": [
    "### 1.3 Comentarios adicionales sobre el generador congruencial\n",
    "\n",
    "Hasta ahora solo nos basamos en aspectos teóricos para ver si un generador es bueno. También hay aspectos computacionales...\n",
    "\n",
    "En ese sentido los generadores multiplicativos son más eficientes que los mixtos porque se ahorran la operación de suma. Sin embargo, por el **Teorema** <font color=red>¿qué pasa con los generadores multiplicativos?</font>\n",
    "\n",
    "De igual forma, una elección computacionalmente adecuada es $m=2^k$ (se elige m grande para tener periodos grandes). Con esta elección, y $k\\geq2$, el generador tendrá periodo completo si y sólo si $b$ es impar y $1 = a \\mod 4$.\n",
    "\n",
    "Si se combina lo anterior (generador multiplicativo con $m=2^k$), obtenemos que el periodo máximo que se puede obtener es una cuarta parte de $m$, $\\frac{2^k}{4}=2^{k-2}$ y se alcanza únicamente para $x_0$ impar y, $3 = a \\mod 8$ o $5 = a \\mod 8$.\n",
    "\n",
    "Un generador multiplicativo muy utilizado, conocido como *RANDU*, tomaba $m = 2^{31}$ y $a = 2^{16} + 3$. Sin embargo, se ha demostrado que tiene propiedades estadı́sticas bastante malas.\n",
    "\n",
    "Los generadores multiplicativos más famosos utilizados por IBM tomaban $m = 2^{31}$ y $b = 12345$ o $a= 1103515245$.\n",
    "\n",
    "Pueden encontrar más información en este [enlace](https://en.wikipedia.org/wiki/Linear_congruential_generator).\n",
    "\n",
    "- Se pueden hacer combinaciones de generadores y otros generadores más complicados..."
   ]
  },
  {
   "cell_type": "markdown",
   "metadata": {},
   "source": [
    "**Ejemplo**\n",
    "\n",
    "Tomar los parámetros $m=2^{31} − 1$, $a=1103515245$ y $b=12345$, y generar una secuencia pseudoaleatoria uniforme estándar de $n=10^4$ elementos.\n",
    "\n",
    "Luego, dibujar el histograma (diagrama de frecuencias). ¿Corresponde lo obtenido con lo que se imaginaban?"
   ]
  },
  {
   "cell_type": "code",
   "execution_count": 11,
   "metadata": {},
   "outputs": [],
   "source": [
    "import time\n",
    "import numpy as np\n",
    "import matplotlib.pyplot as plt"
   ]
  },
  {
   "cell_type": "code",
   "execution_count": 12,
   "metadata": {},
   "outputs": [
    {
     "name": "stdout",
     "output_type": "stream",
     "text": [
<<<<<<< HEAD
      "Tiempo de cálculo: 0.5989999771118164\n"
=======
      "Tiempo de cálculo: 0.48334360122680664\n"
>>>>>>> master
     ]
    }
   ],
   "source": [
    "#### Resolver acá\n",
    "t1=time.time()\n",
    "x = cong_method1(3, 1103515245, 12345, 2**31-1, 10**6)\n",
    "print('Tiempo de cálculo:',time.time()-t1)"
   ]
  },
  {
   "cell_type": "code",
   "execution_count": 13,
   "metadata": {},
   "outputs": [
    {
     "name": "stdout",
     "output_type": "stream",
     "text": [
<<<<<<< HEAD
      "Tiempo de cálculo: 0.41080760955810547\n"
=======
      "Tiempo de cálculo: 0.23480796813964844\n"
>>>>>>> master
     ]
    }
   ],
   "source": [
    "t1=time.time()\n",
    "x = cong_method2(3, 1103515245, 12345, 2**31-1, 10**6)\n",
    "print('Tiempo de cálculo:',time.time()-t1)"
   ]
  },
  {
   "cell_type": "code",
   "execution_count": 14,
   "metadata": {},
   "outputs": [],
   "source": [
    "%matplotlib inline"
   ]
  },
  {
   "cell_type": "code",
   "execution_count": 15,
   "metadata": {
    "scrolled": true
   },
   "outputs": [
    {
     "data": {
      "image/png": "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\n",
      "text/plain": [
       "<Figure size 432x288 with 1 Axes>"
      ]
     },
     "metadata": {
      "needs_background": "light"
     },
     "output_type": "display_data"
    }
   ],
   "source": [
    "plt.hist(x,50,density=True)#true es para que muestre densidad y false para probabilidad\n",
    "plt.xlabel('valores aleatorios')\n",
    "plt.ylabel('probabilidad')\n",
    "plt.title('histograma')\n",
    "plt.show()"
   ]
  },
  {
   "cell_type": "markdown",
   "metadata": {},
   "source": [
    "**Ejemplo**\n",
    "\n",
    "¿Cómo hacer para obtener secuencias pseudoaleatorias en $\\mathcal{U}(a,b)$?\n",
    "\n",
    "Realizar un código para esto. Hacer una prueba con los parámetros anteriormente tomados y dibujar el histograma para contrastar."
   ]
  },
  {
   "cell_type": "code",
   "execution_count": 16,
   "metadata": {},
   "outputs": [],
   "source": [
    "#### Resolver acá\n",
    "a, b = 7, 10\n",
    "xab = (b-a)*x+a"
   ]
  },
  {
   "cell_type": "code",
   "execution_count": 17,
   "metadata": {},
   "outputs": [
    {
     "data": {
<<<<<<< HEAD
      "image/png": "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\n",
=======
      "image/png": "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\n",
>>>>>>> master
      "text/plain": [
       "<Figure size 432x288 with 1 Axes>"
      ]
     },
     "metadata": {
      "needs_background": "light"
     },
     "output_type": "display_data"
    }
   ],
   "source": [
    "plt.hist(xab,100,density=True)\n",
    "plt.xlabel('valores aleatorios')\n",
    "plt.ylabel('probabilidad')\n",
    "plt.title('histograma')\n",
    "plt.show()"
   ]
  },
  {
   "cell_type": "markdown",
   "metadata": {},
   "source": [
    "**Ejemplo**\n",
    "\n",
    "Escribir una función que devuelva secuencias de números aleatorios $\\mathcal{U}(0,1)$ usando los parámetros dados anteriormente y que use como semilla `time.time()`."
   ]
  },
  {
   "cell_type": "code",
   "execution_count": 18,
<<<<<<< HEAD
=======
   "metadata": {},
   "outputs": [
    {
     "data": {
      "text/plain": [
       "1568074292.4805284"
      ]
     },
     "execution_count": 18,
     "metadata": {},
     "output_type": "execute_result"
    }
   ],
   "source": [
    "time.time()"
   ]
  },
  {
   "cell_type": "code",
   "execution_count": 19,
>>>>>>> master
   "metadata": {},
   "outputs": [],
   "source": [
    "#### Resolver acá\n",
    "import time\n",
    "def randuni(n):\n",
    "    return cong_method2(round(time.time()*10**7), 1103515245, 12345, 2**31-1, n+1)[1:]"
   ]
  },
  {
   "cell_type": "code",
<<<<<<< HEAD
   "execution_count": 19,
=======
   "execution_count": 20,
>>>>>>> master
   "metadata": {},
   "outputs": [
    {
     "data": {
      "text/plain": [
<<<<<<< HEAD
       "array([0.62787141, 0.15559403, 0.04373327, 0.25112338, 0.48383781,\n",
       "       0.01822154, 0.49612793, 0.49675281, 0.72211396, 0.37645859])"
      ]
     },
     "execution_count": 19,
=======
       "array([0.01645803, 0.87004744, 0.23572846, 0.49488196, 0.42019414,\n",
       "       0.60446727, 0.10662296, 0.59320217, 0.5998482 , 0.83595936])"
      ]
     },
     "execution_count": 20,
>>>>>>> master
     "metadata": {},
     "output_type": "execute_result"
    }
   ],
   "source": [
    "randuni(10)"
   ]
  },
  {
   "cell_type": "markdown",
   "metadata": {},
   "source": [
    "___\n",
    "## 2. Método Box–Muller para generación de números pseudoaleatorios $\\mathcal{N}(0,1)$\n",
    "\n",
    "Teniendo dos secuencias de números pseudoaleatorios independientes e uniformemente distribuidos en el intervalo $\\left[0,1\\right]$ ($\\mathcal{U}(0,1)$) es posible generar dos secuencias  de números pseudoaleatorios independientes y normalmente distribuidos con media cero y varianza unitaria ($\\mathcal{N}(0,1)$).\n",
    "\n",
    "Este método se conoce como el método Box–Muller."
   ]
  },
  {
   "cell_type": "markdown",
   "metadata": {},
   "source": [
    "Supongamos que $U_1$ y $U_2$ son variables aleatorias independientes que están uniformemente distribuidas en el intervalo $\\left[0,1\\right]$. Sean entonces:\n",
    "\n",
    "$$X=R\\cos(\\theta)=\\sqrt{-2\\ln(U_1)}\\cos(2\\pi U_2),$$\n",
    "\n",
    "y\n",
    "\n",
    "$$Y=R\\sin(\\theta)=\\sqrt{-2\\ln(U_1)}\\sin(2\\pi U_2).$$\n",
    "\n",
    "Entonces, $X$ y $Y$ son variables aleatorias independientes con una distribución normal estándar ($\\mathcal{N}(0,1)$)."
   ]
  },
  {
   "cell_type": "markdown",
   "metadata": {},
   "source": [
    "La derivación de esto se basa en la transformación del sistema cartesiano al sistema polar.\n",
    "\n",
    "<font color=blue> Mostrar intuitivamente en el tablero. </font>"
   ]
  },
  {
   "cell_type": "markdown",
   "metadata": {},
   "source": [
    "**Ejemplo**\n",
    "\n",
    "Escribir una función que devuelva secuencias de números aleatorios $\\mathcal{N}(0,1)$.\n",
    "\n",
    "*Usar la función escrita anteriormente*"
   ]
  },
  {
   "cell_type": "code",
<<<<<<< HEAD
   "execution_count": 20,
=======
   "execution_count": 21,
>>>>>>> master
   "metadata": {},
   "outputs": [],
   "source": [
    "#### Resolver acá\n",
    "def randnorm(n):\n",
    "    u1,u2 = randuni(n), randuni(n)\n",
    "    theta = 2*np.pi*u2\n",
    "    x = np.sqrt(-2*np.log(u1))*np.cos(theta)\n",
    "    y = np.sqrt(-2*np.log(u1))*np.sin(theta)\n",
    "    return y"
   ]
  },
  {
   "cell_type": "markdown",
   "metadata": {},
   "source": [
    "**Ejemplo**\n",
    "\n",
    "Generar una secuencia pseudoaleatoria normal estándar de $n=10^4$ elementos.\n",
    "\n",
    "Luego, dibujar el histograma (diagrama de frecuencias). ¿Corresponde lo obtenido con lo que se imaginaban?"
   ]
  },
  {
   "cell_type": "code",
<<<<<<< HEAD
   "execution_count": 21,
   "metadata": {
    "scrolled": true
   },
   "outputs": [
    {
     "data": {
      "image/png": "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\n",
=======
   "execution_count": 22,
   "metadata": {},
   "outputs": [
    {
     "data": {
      "image/png": "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\n",
>>>>>>> master
      "text/plain": [
       "<Figure size 432x288 with 1 Axes>"
      ]
     },
     "metadata": {
      "needs_background": "light"
     },
     "output_type": "display_data"
    }
   ],
   "source": [
<<<<<<< HEAD
    "y = randnorm(10**4)\n",
    "plt.hist(y,50,density=True)\n",
    "plt.xlabel('Valores aleatorios')\n",
    "plt.ylabel('Probabilidad')\n",
    "plt.title('Histograma')\n",
    "plt.show()"
=======
    "#### Resolver acá\n",
    "y = randnorm(10**4)\n",
    "plt.hist(y,50,density=False)\n",
    "plt.xlabel('valores aleatorios')\n",
    "plt.ylabel('probabilidad')\n",
    "plt.title('histograma')\n",
    "plt.show()\n"
>>>>>>> master
   ]
  },
  {
   "cell_type": "markdown",
   "metadata": {},
   "source": [
    "**Ejemplo**\n",
    "\n",
    "¿Cómo hacer para obtener secuencias pseudoaleatorias en $\\mathcal{N}(\\mu,\\sigma)$?\n",
    "\n",
    "Realizar un código para esto. Hacer una prueba y dibujar el histograma para contrastar."
   ]
  },
  {
   "cell_type": "code",
<<<<<<< HEAD
   "execution_count": 22,
=======
   "execution_count": 28,
>>>>>>> master
   "metadata": {},
   "outputs": [],
   "source": [
    "#### Resolver acá\n",
    "mu = 5\n",
    "sigma =3\n",
    "X = sigma*y+mu"
   ]
  },
  {
   "cell_type": "code",
<<<<<<< HEAD
   "execution_count": null,
   "metadata": {},
   "outputs": [],
   "source": []
  },
  {
   "cell_type": "code",
   "execution_count": null,
   "metadata": {},
   "outputs": [],
   "source": []
  },
  {
=======
   "execution_count": 29,
   "metadata": {},
   "outputs": [
    {
     "data": {
      "image/png": "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\n",
      "text/plain": [
       "<Figure size 432x288 with 1 Axes>"
      ]
     },
     "metadata": {},
     "output_type": "display_data"
    }
   ],
   "source": [
    "plt.hist(X,200,density=True)\n",
    "plt.xlabel('valores aleatorios')\n",
    "plt.ylabel('frecuencia')\n",
    "plt.title('histograma')\n",
    "plt.show()"
   ]
  },
  {
>>>>>>> master
   "cell_type": "markdown",
   "metadata": {},
   "source": [
    "Finalmente, mostrar que funciones de este tipo ya están en `numpy`. Ya sabemos como se obtienen."
   ]
  },
  {
   "cell_type": "code",
<<<<<<< HEAD
   "execution_count": 23,
=======
   "execution_count": 30,
>>>>>>> master
   "metadata": {},
   "outputs": [
    {
     "name": "stderr",
     "output_type": "stream",
     "text": [
      "/Users/KitziaFigueroa/anaconda3/lib/python3.7/site-packages/matplotlib/axes/_axes.py:6521: MatplotlibDeprecationWarning: \n",
      "The 'normed' kwarg was deprecated in Matplotlib 2.1 and will be removed in 3.1. Use 'density' instead.\n",
      "  alternative=\"'density'\", removal=\"3.1\")\n"
     ]
    },
    {
     "data": {
<<<<<<< HEAD
      "image/png": "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\n",
=======
      "image/png": "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\n",
>>>>>>> master
      "text/plain": [
       "<Figure size 432x288 with 1 Axes>"
      ]
     },
     "metadata": {
      "needs_background": "light"
     },
     "output_type": "display_data"
    }
   ],
   "source": [
    "x=np.random.uniform(10,20,10**6)\n",
    "plt.hist(x,100,density=True)\n",
    "plt.xlabel('valores aleatorios')\n",
    "plt.ylabel('frecuencia')\n",
    "plt.title('histograma')\n",
    "plt.show()"
   ]
  },
  {
   "cell_type": "code",
<<<<<<< HEAD
   "execution_count": 24,
=======
   "execution_count": 26,
>>>>>>> master
   "metadata": {},
   "outputs": [
    {
     "name": "stdout",
     "output_type": "stream",
     "text": [
      "Help on built-in function normal:\n",
      "\n",
      "normal(...) method of mtrand.RandomState instance\n",
      "    normal(loc=0.0, scale=1.0, size=None)\n",
      "    \n",
      "    Draw random samples from a normal (Gaussian) distribution.\n",
      "    \n",
      "    The probability density function of the normal distribution, first\n",
      "    derived by De Moivre and 200 years later by both Gauss and Laplace\n",
      "    independently [2]_, is often called the bell curve because of\n",
      "    its characteristic shape (see the example below).\n",
      "    \n",
      "    The normal distributions occurs often in nature.  For example, it\n",
      "    describes the commonly occurring distribution of samples influenced\n",
      "    by a large number of tiny, random disturbances, each with its own\n",
      "    unique distribution [2]_.\n",
      "    \n",
      "    Parameters\n",
      "    ----------\n",
      "    loc : float or array_like of floats\n",
      "        Mean (\"centre\") of the distribution.\n",
      "    scale : float or array_like of floats\n",
      "        Standard deviation (spread or \"width\") of the distribution.\n",
      "    size : int or tuple of ints, optional\n",
      "        Output shape.  If the given shape is, e.g., ``(m, n, k)``, then\n",
      "        ``m * n * k`` samples are drawn.  If size is ``None`` (default),\n",
      "        a single value is returned if ``loc`` and ``scale`` are both scalars.\n",
      "        Otherwise, ``np.broadcast(loc, scale).size`` samples are drawn.\n",
      "    \n",
      "    Returns\n",
      "    -------\n",
      "    out : ndarray or scalar\n",
      "        Drawn samples from the parameterized normal distribution.\n",
      "    \n",
      "    See Also\n",
      "    --------\n",
      "    scipy.stats.norm : probability density function, distribution or\n",
      "        cumulative density function, etc.\n",
      "    \n",
      "    Notes\n",
      "    -----\n",
      "    The probability density for the Gaussian distribution is\n",
      "    \n",
      "    .. math:: p(x) = \\frac{1}{\\sqrt{ 2 \\pi \\sigma^2 }}\n",
      "                     e^{ - \\frac{ (x - \\mu)^2 } {2 \\sigma^2} },\n",
      "    \n",
      "    where :math:`\\mu` is the mean and :math:`\\sigma` the standard\n",
      "    deviation. The square of the standard deviation, :math:`\\sigma^2`,\n",
      "    is called the variance.\n",
      "    \n",
      "    The function has its peak at the mean, and its \"spread\" increases with\n",
      "    the standard deviation (the function reaches 0.607 times its maximum at\n",
      "    :math:`x + \\sigma` and :math:`x - \\sigma` [2]_).  This implies that\n",
      "    `numpy.random.normal` is more likely to return samples lying close to\n",
      "    the mean, rather than those far away.\n",
      "    \n",
      "    References\n",
      "    ----------\n",
      "    .. [1] Wikipedia, \"Normal distribution\",\n",
      "           http://en.wikipedia.org/wiki/Normal_distribution\n",
      "    .. [2] P. R. Peebles Jr., \"Central Limit Theorem\" in \"Probability,\n",
      "           Random Variables and Random Signal Principles\", 4th ed., 2001,\n",
      "           pp. 51, 51, 125.\n",
      "    \n",
      "    Examples\n",
      "    --------\n",
      "    Draw samples from the distribution:\n",
      "    \n",
      "    >>> mu, sigma = 0, 0.1 # mean and standard deviation\n",
      "    >>> s = np.random.normal(mu, sigma, 1000)\n",
      "    \n",
      "    Verify the mean and the variance:\n",
      "    \n",
      "    >>> abs(mu - np.mean(s)) < 0.01\n",
      "    True\n",
      "    \n",
      "    >>> abs(sigma - np.std(s, ddof=1)) < 0.01\n",
      "    True\n",
      "    \n",
      "    Display the histogram of the samples, along with\n",
      "    the probability density function:\n",
      "    \n",
      "    >>> import matplotlib.pyplot as plt\n",
      "    >>> count, bins, ignored = plt.hist(s, 30, density=True)\n",
      "    >>> plt.plot(bins, 1/(sigma * np.sqrt(2 * np.pi)) *\n",
      "    ...                np.exp( - (bins - mu)**2 / (2 * sigma**2) ),\n",
      "    ...          linewidth=2, color='r')\n",
      "    >>> plt.show()\n",
      "\n"
     ]
    }
   ],
   "source": [
    "help(np.random.normal)"
   ]
  },
  {
   "cell_type": "code",
<<<<<<< HEAD
   "execution_count": 25,
=======
   "execution_count": 31,
>>>>>>> master
   "metadata": {},
   "outputs": [
    {
     "data": {
<<<<<<< HEAD
      "image/png": "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\n",
=======
      "image/png": "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\n",
>>>>>>> master
      "text/plain": [
       "<Figure size 432x288 with 1 Axes>"
      ]
     },
     "metadata": {
      "needs_background": "light"
     },
     "output_type": "display_data"
    }
   ],
   "source": [
    "x = np.random.normal(5,3,10**6)\n",
    "plt.hist(x,100,density=True)\n",
    "plt.xlabel('valores aleatorios')\n",
    "plt.ylabel('frecuencia')\n",
    "plt.title('histograma')\n",
    "plt.show()"
   ]
  },
  {
   "cell_type": "markdown",
   "metadata": {},
   "source": [
    "> ## Tarea 3: (Usando notebook de jupyter)** \n",
    "\n",
    "> Usando compresión de listas (sino recuerda como funciona observar el siguiente enlace https://www.pythonforbeginners.com/lists/list-comprehensions-in-python/), resolver los siguientes ejercicios:\n",
    "    1. Find all of the numbers from 1-1000 that are divisible by 7.\n",
    "    2. Find all of the numbers from 1-1000 that have a 3 in them.\n",
    "    3. Count the number of spaces in a string.\n",
    "    4. Remove all of the vowels in a string [make a list of the non-vowels].\n",
    "    5. Find all of the words in a string that are less than 4 letters.\n",
    "> **CHALLENGE!**\n",
    "    6. Use a dictionary comprehension to count the length of each word in a sentence.\n",
    "    7. Use a nested list comprehension to find all of the numbers from 1-1000 that are divisible by any single digit besides 1 (2-9). "
   ]
  },
  {
   "cell_type": "markdown",
   "metadata": {},
   "source": [
    "<script>\n",
    "  $(document).ready(function(){\n",
    "    $('div.prompt').hide();\n",
    "    $('div.back-to-top').hide();\n",
    "    $('nav#menubar').hide();\n",
    "    $('.breadcrumb').hide();\n",
    "    $('.hidden-print').hide();\n",
    "  });\n",
    "</script>\n",
    "\n",
    "<footer id=\"attribution\" style=\"float:right; color:#808080; background:#fff;\">\n",
    "Created with Jupyter by Esteban Jiménez Rodríguez and edited by Oscar David Jaramillo Z.\n",
    "</footer>"
   ]
  }
 ],
 "metadata": {
  "kernelspec": {
   "display_name": "Python 3",
   "language": "python",
   "name": "python3"
  },
  "language_info": {
   "codemirror_mode": {
    "name": "ipython",
    "version": 3
   },
   "file_extension": ".py",
   "mimetype": "text/x-python",
   "name": "python",
   "nbconvert_exporter": "python",
   "pygments_lexer": "ipython3",
   "version": "3.7.2"
  }
 },
 "nbformat": 4,
 "nbformat_minor": 2
}
